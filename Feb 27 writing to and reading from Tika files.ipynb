{
 "cells": [
  {
   "cell_type": "code",
   "execution_count": 50,
   "metadata": {},
   "outputs": [],
   "source": [
    "from io import StringIO\n",
    "import os\n",
    "import itertools\n",
    "import pickle\n",
    "import time\n",
    "from bs4 import BeautifulSoup\n",
    "from tika import parser\n",
    "import pandas as pd\n",
    "from collections import Counter\n",
    "import re\n",
    "import camelot\n",
    "from IPython.core.interactiveshell import InteractiveShell\n",
    "InteractiveShell.ast_node_interactivity = \"all\""
   ]
  },
  {
   "cell_type": "markdown",
   "metadata": {},
   "source": [
    "#### Write to pickle format"
   ]
  },
  {
   "cell_type": "code",
   "execution_count": 56,
   "metadata": {},
   "outputs": [
    {
     "data": {
      "text/plain": [
       "array(['Application to Construct and Operate Ekwan Pipeline',\n",
       "       'Application for the construction and operation of the Mackenzie Gas Pipeline',\n",
       "       'Application for the Brunswick Pipeline Project',\n",
       "       'Application for Line 13 Transfer, Line 13 Reversal and Capacity Replacement for the Southern Lights Project',\n",
       "       'Application for the Alberta Clipper Expansion Project',\n",
       "       'Application for the Line 4 Extension Project',\n",
       "       'Application for the Cushing Expansion',\n",
       "       'Application for Redwillow Pipeline Project',\n",
       "       'Application to construct and operate the South Peace Pipeline Project',\n",
       "       'Application for the Keystone XL Pipeline',\n",
       "       'Application for the Groundbirch Pipeline Project',\n",
       "       'Application for the Horn River Project',\n",
       "       'Application for the Enbridge Northern Gateway Pipeline Project',\n",
       "       'Application for Bakken Pipeline Project Canada',\n",
       "       'Application for the Vantage Pipeline Project',\n",
       "       'Application for the Northwest Mainline Expansion',\n",
       "       'Application for the Leismer to Kettle River Crossover',\n",
       "       'Application for Line 9 Reversal Phase I Project',\n",
       "       'Application for Northwest Mainline Komie North Extension',\n",
       "       'Application for the Edmonton to Hardisty Pipeline Project',\n",
       "       'Application for North Montney Project',\n",
       "       'Application for Trans Mountain Expansion Project',\n",
       "       'Application for the Wolverine River Lateral Loop Carmon Creek Section',\n",
       "       'Applications for Energy East, Asset Transfer and Eastern Mainline',\n",
       "       'Applications for Energy East, Asset Transfer and Eastern Mainline  Eastern Mainline ESA',\n",
       "       'Application for the Line 3 Replacement Program',\n",
       "       'Application for the 2017 NGTL System Expansion',\n",
       "       'Application for the Towerbirch Expansion Project',\n",
       "       'Application for the Albersun Pipeline Asset Purchase G',\n",
       "       'Application for the Wyndwood Pipeline Expansion Project',\n",
       "       'Application for the Spruce Ridge Program',\n",
       "       'Application for the construction of the West Path Delivery Project',\n",
       "       'Application for the Goldboro Gas Plant and 26\" Gathering Pipeline Abandonment',\n",
       "       'Application for Leave to Abandon Deep Panuke Pipeline',\n",
       "       'Application for 2021 NGTL System Expansion Project',\n",
       "       'Application for the Construction of Edson Mainline Expansion Project',\n",
       "       'Application for the Construction of North Corridor Expansion Project'],\n",
       "      dtype=object)"
      ]
     },
     "execution_count": 56,
     "metadata": {},
     "output_type": "execute_result"
    }
   ],
   "source": [
    "#Open Index 2 for each PDF\n",
    "#updated on Feb 27 post line 3 addition\n",
    "\n",
    "index2_path = 'F:/Environmental Baseline Data/Version 4 - Final/Indices/Index 2 - PDFs for Major Projects with ESAs.csv'\n",
    "index2 = pd.read_csv(index2_path)\n",
    "index2['Application title short'].unique()\n"
   ]
  },
  {
   "cell_type": "code",
   "execution_count": 61,
   "metadata": {},
   "outputs": [
    {
     "name": "stdout",
     "output_type": "stream",
     "text": [
      "['F:/Environmental Baseline Data/Version 4 - Final/PDF/600622.pdf', 'F:/Environmental Baseline Data/Version 4 - Final/PDF/600625.pdf', 'F:/Environmental Baseline Data/Version 4 - Final/PDF/600470.pdf', 'F:/Environmental Baseline Data/Version 4 - Final/PDF/600473.pdf', 'F:/Environmental Baseline Data/Version 4 - Final/PDF/600476.pdf', 'F:/Environmental Baseline Data/Version 4 - Final/PDF/600628.pdf', 'F:/Environmental Baseline Data/Version 4 - Final/PDF/600631.pdf', 'F:/Environmental Baseline Data/Version 4 - Final/PDF/600479.pdf', 'F:/Environmental Baseline Data/Version 4 - Final/PDF/600634.pdf', 'F:/Environmental Baseline Data/Version 4 - Final/PDF/600482.pdf', 'F:/Environmental Baseline Data/Version 4 - Final/PDF/600637.pdf', 'F:/Environmental Baseline Data/Version 4 - Final/PDF/600485.pdf', 'F:/Environmental Baseline Data/Version 4 - Final/PDF/600640.pdf', 'F:/Environmental Baseline Data/Version 4 - Final/PDF/600488.pdf', 'F:/Environmental Baseline Data/Version 4 - Final/PDF/600491.pdf', 'F:/Environmental Baseline Data/Version 4 - Final/PDF/600494.pdf', 'F:/Environmental Baseline Data/Version 4 - Final/PDF/600497.pdf', 'F:/Environmental Baseline Data/Version 4 - Final/PDF/600643.pdf', 'F:/Environmental Baseline Data/Version 4 - Final/PDF/600713.pdf', 'F:/Environmental Baseline Data/Version 4 - Final/PDF/600716.pdf', 'F:/Environmental Baseline Data/Version 4 - Final/PDF/600646.pdf', 'F:/Environmental Baseline Data/Version 4 - Final/PDF/600500.pdf', 'F:/Environmental Baseline Data/Version 4 - Final/PDF/600719.pdf', 'F:/Environmental Baseline Data/Version 4 - Final/PDF/600649.pdf', 'F:/Environmental Baseline Data/Version 4 - Final/PDF/600503.pdf', 'F:/Environmental Baseline Data/Version 4 - Final/PDF/600506.pdf', 'F:/Environmental Baseline Data/Version 4 - Final/PDF/600722.pdf', 'F:/Environmental Baseline Data/Version 4 - Final/PDF/600509.pdf', 'F:/Environmental Baseline Data/Version 4 - Final/PDF/600725.pdf', 'F:/Environmental Baseline Data/Version 4 - Final/PDF/600728.pdf', 'F:/Environmental Baseline Data/Version 4 - Final/PDF/600731.pdf', 'F:/Environmental Baseline Data/Version 4 - Final/PDF/600734.pdf', 'F:/Environmental Baseline Data/Version 4 - Final/PDF/600737.pdf', 'F:/Environmental Baseline Data/Version 4 - Final/PDF/600740.pdf', 'F:/Environmental Baseline Data/Version 4 - Final/PDF/600743.pdf', 'F:/Environmental Baseline Data/Version 4 - Final/PDF/600746.pdf', 'F:/Environmental Baseline Data/Version 4 - Final/PDF/600512.pdf', 'F:/Environmental Baseline Data/Version 4 - Final/PDF/600652.pdf', 'F:/Environmental Baseline Data/Version 4 - Final/PDF/600875.pdf', 'F:/Environmental Baseline Data/Version 4 - Final/PDF/600878.pdf', 'F:/Environmental Baseline Data/Version 4 - Final/PDF/600881.pdf', 'F:/Environmental Baseline Data/Version 4 - Final/PDF/600515.pdf', 'F:/Environmental Baseline Data/Version 4 - Final/PDF/600518.pdf', 'F:/Environmental Baseline Data/Version 4 - Final/PDF/600521.pdf', 'F:/Environmental Baseline Data/Version 4 - Final/PDF/600749.pdf', 'F:/Environmental Baseline Data/Version 4 - Final/PDF/600752.pdf', 'F:/Environmental Baseline Data/Version 4 - Final/PDF/600755.pdf']\n"
     ]
    }
   ],
   "source": [
    "subset_list = index2[index2['Application title short'] == 'Application for the Horn River Project']\n",
    "# subset_list.head()\n",
    "subset_list_pdf = list(subset_list['DataID_pdf'])\n",
    "subset_list_pdf_full = ['F:/Environmental Baseline Data/Version 4 - Final/PDF/' + x for x in subset_list_pdf]\n",
    "print(subset_list_pdf_full)\n",
    "\n",
    "# print(subset_list_pdf_full[0:5])\n",
    "for x in subset_list_pdf_full:\n",
    "    xml = parser.from_file(x, xmlContent = True)\n",
    "    replace_string = x.replace('F:/Environmental Baseline Data/Version 4 - Final/PDF/', '').replace('.pdf', '')\n",
    "    path = 'F:/Environmental Baseline Data/Version 4 - Final/Tika - Pickles/'\n",
    "    save_string = path + 'tikaxml_' + replace_string + '.pkl'\n",
    "#     print(save_string)\n",
    "    pickle.dump(xml, open(save_string, \"wb\" ))"
   ]
  },
  {
   "cell_type": "markdown",
   "metadata": {},
   "source": [
    "#### Read pickle format"
   ]
  },
  {
   "cell_type": "code",
   "execution_count": 43,
   "metadata": {},
   "outputs": [
    {
     "data": {
      "text/plain": [
       "1777"
      ]
     },
     "execution_count": 43,
     "metadata": {},
     "output_type": "execute_result"
    },
    {
     "data": {
      "text/plain": [
       "['F:/Environmental Baseline Data/Version 4 - Final/Tika - Pickles/tikaxml_1059522.pkl',\n",
       " 'F:/Environmental Baseline Data/Version 4 - Final/Tika - Pickles/tikaxml_1059614.pkl',\n",
       " 'F:/Environmental Baseline Data/Version 4 - Final/Tika - Pickles/tikaxml_1059617.pkl',\n",
       " 'F:/Environmental Baseline Data/Version 4 - Final/Tika - Pickles/tikaxml_1059620.pkl',\n",
       " 'F:/Environmental Baseline Data/Version 4 - Final/Tika - Pickles/tikaxml_1059623.pkl',\n",
       " 'F:/Environmental Baseline Data/Version 4 - Final/Tika - Pickles/tikaxml_1059803.pkl',\n",
       " 'F:/Environmental Baseline Data/Version 4 - Final/Tika - Pickles/tikaxml_1059806.pkl',\n",
       " 'F:/Environmental Baseline Data/Version 4 - Final/Tika - Pickles/tikaxml_1059809.pkl',\n",
       " 'F:/Environmental Baseline Data/Version 4 - Final/Tika - Pickles/tikaxml_1059812.pkl',\n",
       " 'F:/Environmental Baseline Data/Version 4 - Final/Tika - Pickles/tikaxml_1059815.pkl']"
      ]
     },
     "execution_count": 43,
     "metadata": {},
     "output_type": "execute_result"
    }
   ],
   "source": [
    "path = 'F:/Environmental Baseline Data/Version 4 - Final/Tika - Pickles/'\n",
    "paths = os.listdir(path)\n",
    "all_paths = [path + str(x) for x in paths]\n",
    "len(all_paths)\n",
    "all_paths = all_paths[:10]\n",
    "all_paths"
   ]
  },
  {
   "cell_type": "code",
   "execution_count": null,
   "metadata": {},
   "outputs": [],
   "source": []
  },
  {
   "cell_type": "code",
   "execution_count": null,
   "metadata": {},
   "outputs": [],
   "source": []
  },
  {
   "cell_type": "code",
   "execution_count": null,
   "metadata": {},
   "outputs": [],
   "source": []
  },
  {
   "cell_type": "code",
   "execution_count": 16,
   "metadata": {},
   "outputs": [
    {
     "name": "stdout",
     "output_type": "stream",
     "text": [
      "{'metadata': {'Content-Type': 'application/pdf', 'Creation-Date': '2013-11-08T00:54:34Z', 'Last-Modified': '2013-11-08T00:54:34Z', 'Last-Save-Date': '2013-11-08T00:54:34Z', 'X-Parsed-By': ['org.apache.tika.parser.DefaultParser', 'org.apache.tika.parser.pdf.PDFParser'], 'X-TIKA:content_handler': 'ToXMLContentHandler', 'X-TIKA:embedded_depth': '0', 'X-TIKA:parse_time_millis': '97', 'access_permission:assemble_document': 'true', 'access_permission:can_modify': 'true', 'access_permission:can_print': 'true', 'access_permission:can_print_degraded': 'true', 'access_permission:extract_content': 'true', 'access_permission:extract_for_accessibility': 'true', 'access_permission:fill_in_form': 'true', 'access_permission:modify_annotations': 'true', 'date': '2013-11-08T00:54:34Z', 'dc:format': 'application/pdf; version=1.6', 'dcterms:created': '2013-11-08T00:54:34Z', 'dcterms:modified': '2013-11-08T00:54:34Z', 'meta:creation-date': '2013-11-08T00:54:34Z', 'meta:save-date': '2013-11-08T00:54:34Z', 'modified': '2013-11-08T00:54:34Z', 'pdf:PDFVersion': '1.6', 'pdf:charsPerPage': ['1915', '4737'], 'pdf:docinfo:created': '2013-11-08T00:54:34Z', 'pdf:docinfo:creator_tool': 'Adobe Acrobat 10.1.3', 'pdf:docinfo:modified': '2013-11-08T00:54:34Z', 'pdf:docinfo:producer': 'Adobe Acrobat 10.1.3', 'pdf:encrypted': 'false', 'pdf:hasXFA': 'false', 'pdf:hasXMP': 'true', 'pdf:unmappedUnicodeCharsPerPage': ['0', '0'], 'resourceName': \"b'1059623.pdf'\", 'xmp:CreatorTool': 'Adobe Acrobat 10.1.3', 'xmpMM:DocumentID': 'uuid:0d9f645f-2d8a-4f06-8bad-6ae33910987f', 'xmpTPg:NPages': '2'}, 'content': '<html xmlns=\"http://www.w3.org/1999/xhtml\">\\n<head>\\n<meta name=\"date\" content=\"2013-11-08T00:54:34Z\" />\\n<meta name=\"pdf:PDFVersion\" content=\"1.6\" />\\n<meta name=\"xmp:CreatorTool\" content=\"Adobe Acrobat 10.1.3\" />\\n<meta name=\"pdf:hasXFA\" content=\"false\" />\\n<meta name=\"access_permission:modify_annotations\" content=\"true\" />\\n<meta name=\"access_permission:can_print_degraded\" content=\"true\" />\\n<meta name=\"dcterms:created\" content=\"2013-11-08T00:54:34Z\" />\\n<meta name=\"dcterms:modified\" content=\"2013-11-08T00:54:34Z\" />\\n<meta name=\"Last-Modified\" content=\"2013-11-08T00:54:34Z\" />\\n<meta name=\"dc:format\" content=\"application/pdf; version=1.6\" />\\n<meta name=\"xmpMM:DocumentID\" content=\"uuid:0d9f645f-2d8a-4f06-8bad-6ae33910987f\" />\\n<meta name=\"Last-Save-Date\" content=\"2013-11-08T00:54:34Z\" />\\n<meta name=\"pdf:docinfo:creator_tool\" content=\"Adobe Acrobat 10.1.3\" />\\n<meta name=\"access_permission:fill_in_form\" content=\"true\" />\\n<meta name=\"pdf:docinfo:modified\" content=\"2013-11-08T00:54:34Z\" />\\n<meta name=\"meta:save-date\" content=\"2013-11-08T00:54:34Z\" />\\n<meta name=\"pdf:encrypted\" content=\"false\" />\\n<meta name=\"modified\" content=\"2013-11-08T00:54:34Z\" />\\n<meta name=\"Content-Type\" content=\"application/pdf\" />\\n<meta name=\"X-Parsed-By\" content=\"org.apache.tika.parser.DefaultParser\" />\\n<meta name=\"X-Parsed-By\" content=\"org.apache.tika.parser.pdf.PDFParser\" />\\n<meta name=\"meta:creation-date\" content=\"2013-11-08T00:54:34Z\" />\\n<meta name=\"access_permission:extract_for_accessibility\" content=\"true\" />\\n<meta name=\"access_permission:assemble_document\" content=\"true\" />\\n<meta name=\"xmpTPg:NPages\" content=\"2\" />\\n<meta name=\"Creation-Date\" content=\"2013-11-08T00:54:34Z\" />\\n<meta name=\"resourceName\" content=\"b\\'1059623.pdf\\'\" />\\n<meta name=\"pdf:hasXMP\" content=\"true\" />\\n<meta name=\"access_permission:extract_content\" content=\"true\" />\\n<meta name=\"access_permission:can_print\" content=\"true\" />\\n<meta name=\"access_permission:can_modify\" content=\"true\" />\\n<meta name=\"pdf:docinfo:producer\" content=\"Adobe Acrobat 10.1.3\" />\\n<meta name=\"pdf:docinfo:created\" content=\"2013-11-08T00:54:34Z\" />\\n<title></title>\\n</head>\\n<body><div class=\"page\"><p />\\n<p>Land Use\\n</p>\\n<p>Fisheries Resources\\n</p>\\n<p>Vegetation\\n</p>\\n<p>Wetlands\\n</p>\\n<p>Soils\\n</p>\\n<p>Historical Resources\\n</p>\\n<p>Kilometre Posts\\n</p>\\n<p>Re\\nso\\n</p>\\n<p>urc\\ne B\\n</p>\\n<p>an\\nd\\n</p>\\n<p>Topsoil Depth (cm)So\\nils\\n</p>\\n<p>Stripping Criteria\\n</p>\\n<p>Reclamation\\n</p>\\n<p>Historical\\n</p>\\n<p>Other\\n</p>\\n<p>Co\\nns\\n</p>\\n<p>tru\\ncti\\n</p>\\n<p>on\\n M\\n</p>\\n<p>itig\\nati\\n</p>\\n<p>on\\nAe\\n</p>\\n<p>ria\\nl P\\n</p>\\n<p>ho\\ntog\\n</p>\\n<p>rap\\nhy\\n</p>\\n<p> D\\nate\\n</p>\\n<p>: 2\\n01\\n</p>\\n<p>1 t\\no 2\\n</p>\\n<p>01\\n2\\n</p>\\n<p>NORTH MONTNEY PROJECT\\n</p>\\n<p>Original Page Size:  11 x 17\\n</p>\\n<p>Acknowledgements: Field data from TERA Environmental, soils data from Paragon\\nConsulting; Base data supplied by the Government of British Columbia.  Imagery\\nprovided by BlackBridge Geomatics \\n</p>\\n<p>DATE\\n</p>\\n<p>121511126-0053\\nSheet\\n</p>\\n<p>to\\n</p>\\n<p>DATUMINTERNAL IDSHEET REVISION PROJECTION\\n</p>\\n<p>0\\n</p>\\n<p>Co\\nns\\n</p>\\n<p>tru\\ncti\\n</p>\\n<p>on\\nCo\\n</p>\\n<p>ns\\nide\\n</p>\\n<p>rat\\nion\\n</p>\\n<p>s\\n</p>\\n<p>Pipeline Crossing Procedures\\n</p>\\n<p>Vehicle Crossing Procedures\\n</p>\\n<p>Vegetation Restrictions\\n</p>\\n<p>Wi\\nldl\\n</p>\\n<p>ife\\nRe\\n</p>\\n<p>str\\nict\\n</p>\\n<p>ion\\ns\\n</p>\\n<p>Handling\\n</p>\\n<p>\")D Meter Station   \\n!. Rare Plant\\n! TEK Concern\\n</p>\\n<p>GF Watercourse Crossing\\nRare Ecological Community\\nWetland\\nAitken Creek Section\\nKahta Section\\nBorrow Pit\\nCompressor Station\\n</p>\\n<p>0 200 400 600 800 1,000\\n</p>\\n<p>Metres -\\n</p>\\n<p>UTM Zone 10 NAD 83\\n</p>\\n<p>PREPARED BY\\n</p>\\n<p>PREPARED FOR\\n</p>\\n<p>Soils Description\\nFSTyc/3-4 Slope Class\\n</p>\\n<p>Soil Series\\nPhase\\n</p>\\n<p>Environmental Alignment Sheets\\n</p>\\n<p>Soils\\n</p>\\n<p>Wildlife\\n</p>\\n<p>Wetlands\\n</p>\\n<p>Setback/RAP 1\\n</p>\\n<p>Mitigation\\n</p>\\n<p>1:20,000\\n</p>\\n<p>Fisheries Timing Restriction\\n</p>\\n<p>M\\nON\\n</p>\\n<p>IAS LAKE\\n</p>\\n<p>GF\\n!\\n</p>\\n<p>!\\n</p>\\n<p>!\\n</p>\\n<p>21-81-21-W6\\n</p>\\n<p>8-81-21-W6\\n</p>\\n<p>28-81-21-W6\\n</p>\\n<p>31-81-21-W6\\n</p>\\n<p>36-81-22-W6\\n</p>\\n<p>30-81-21-W6\\n</p>\\n<p>32-81-21-W6\\n</p>\\n<p>6-82-21-W6\\n</p>\\n<p>20-81-21-W6\\n</p>\\n<p>17-81-21-W6\\n</p>\\n<p>29-81-21-W6\\n</p>\\n<p>9-81-21-W6\\n</p>\\n<p>15-81-21-W6\\n</p>\\n<p>25-81-22-W6\\n</p>\\n<p>16-81-21-W6\\n</p>\\n<p>19-81-21-W6\\n</p>\\n<p>±\\nWildlife Resources\\n</p>\\n<p>Notes:\\n1. Restricted Activity Period\\n</p>\\n<p>Wa\\nter\\n</p>\\n<p>co\\nurs\\n</p>\\n<p>e \\nCr\\n</p>\\n<p>os\\nsin\\n</p>\\n<p>g M\\neth\\n</p>\\n<p>od\\nElk, Mule Deer, Moose Ungulate Winter Range\\n</p>\\n<p>EM EM WM NWF TF WM TS TB\\n</p>\\n<p>16 17 18 19 20 21 22 23\\n</p>\\n<p>Wa, C C C / ALR R, T / ALR C / ALR Wa, C / ALR\\n</p>\\n<p>23+334\\n</p>\\n<p>AITKEN CREEK SECTION\\n</p>\\n<p>Note 12 Note 12 Note 12 Note 12 Note 12 Note 12 Note 12 Note 12\\n</p>\\n<p>20131105\\n15+639\\n</p>\\n<p>1\\n</p>\\n<p>004\\n</p>\\n<p>Notes 13, 14, 15, 16 Notes 14, 15, 16 Notes 13, 14, 15, 16 Notes 14, 15, 16\\n</p>\\n<p>AC / 6 AC / 2-3 ACgl / 3 EG / 1 AC / 3 AC / 2 MR / 3 ES / 4\\n</p>\\n<p>Note 7 Note 8 Note 9\\n</p>\\n<p>Forested Cleared Forested Pasture\\n</p>\\n<p>Note 11 Note 11 Note 11 Note 11\\n</p>\\n<p>JW1 JW2 TERA A-13 HaRh-3\\n</p>\\n<p>May 15 - July 15\\n</p>\\n<p>Note 1\\n</p>\\n<p>0 15 20 30 20 15 20 15-20\\n</p>\\n<p>Minimum Disturbance Strip to depth indicated Minimum Disturbance Strip to depth indicated Strip to colour change\\n</p>\\n<p>15\\n+6\\n</p>\\n<p>39\\n</p>\\n<p>23\\n+3\\n</p>\\n<p>34</p>\\n<p />\\n</div>\\n<div class=\"page\"><p />\\n<p> \\nVegetation  \\nREC1 tamarack / scrub birch / buck-bean \\nREC2 tamarack / buck-bean - shore sedge \\nRP1 northern bog bedstraw \\nRP2 possible Iowa golden-saxifrage \\nRP3 peat moss (Sphagnum wulfianum) \\nRP4 swollen beaked sedge \\nRP5 autumn willow \\nRP6 davis\\' locoweed \\nRP7 dry-land sedge \\nRP8 western jacob’s-ladder \\nOGMA Old Growth Management Area \\n  \\n  \\n \\n \\n \\n</p>\\n<p> \\nWetland Type  \\nBS Broadleaf Swamp \\nBTS Broad-leaf Treed Swamp \\nEM Emergent Marsh \\nMTS Mixedwood Treed Swamp \\nNTS Needle-leaf Treed Swamp \\nNWF Non-woody Fen \\nNWF\\\\FP Non-woody Fen\\\\Floodplain \\nOWF\\\\SF Open Water Pond\\\\Shrubby Fen \\nSEM Seasonal Emergent Marsh \\nSF Shrubby Fen \\nSS Shrubby Swamp \\nTB Treed Bog \\nTF Treed Fen \\nTF\\\\SEM Treed Fen\\\\Seasonal Emergent Marsh \\nTS Treed Swamp \\nWM Wet Meadow \\n  \\n \\n \\n \\n</p>\\n<p> \\nSoil Slope Classes   \\n1 =&gt; 0-0.5% (level) \\n2 =&gt; 0.5-2% (nearly level) \\n3 =&gt; 2-5% (very gentle slopes) \\n4 =&gt; 5-10% (gentle slopes) \\n5 =&gt; 10-15% (moderate slopes) \\n6 =&gt; 15-30% (strong slopes) \\n7 =&gt; 30-45% (very strong slopes) \\n8 =&gt; 45-70% (extreme slopes) \\n9 =&gt; 70-100% (steep slopes) \\n10 =&gt; 100% (very steep slopes) \\n   \\n   \\n   \\n \\n \\n \\n</p>\\n<p> \\nSoils Constraints  \\nC Compaction \\nR Rutting \\nT Unstable Trench \\nWa Water Erosion \\nBR Bedrock within trench depth \\n  \\n  \\n \\n \\n \\n \\n</p>\\n<p> \\nWatercourse Crossing Procedures\\nPipeline Crossing Procedures\\n     DCD Diversion and Coffer Dam if flow is &lt;1.5 m³/s \\n     IDP Isolated Dam and Pump if flow is &lt; 1 m3/s \\n     IF Isolate Flume \\n     OC Open cut if dry or frozen to the bottom \\n     POC Partial isolated open cut \\n     TB/THDD Trenchless Bore or Trenchless HDD¹ \\n     N/A Not Applicable \\n     TBD To be determined \\n¹See EPP for contingency crossing procedure \\nVehicle Crossing Procedures\\n   Open Water  \\n       CB Clear Span Bridge \\n       E Existing \\n       EB Existing Bridge \\n       ER Existing Road Crossing \\n       erow Existing right-of-way \\n       TBD To be determined \\n   Frozen  \\n     SIB Snowfill/ice bridge \\n     E Existing \\n     EB Existing Bridge \\n     ER Existing Road Crossing \\n     TBD To be determined \\n  \\n*Vehicle Crossing Procedure labeling example: \\n  \\nCB/SIB \\n</p>\\n<p> \\n</p>\\n<p>  \\n \\nOpen Water       \\n</p>\\n<p> \\nFrozen \\n</p>\\n<p>  \\nFisheries Timing Restrictions \\nIWLR: Instream Window of Low Risk\\n  \\n  \\n \\n</p>\\n<p>   \\n \\nNotes  \\nNote 1 Refer to EPP - Resource Specific Mitigation Table. \\nNote 2 The extent of disturbance (e.g. additional temporary workspace) will be reduced where feasible and safe to do so. \\nNote 3 Avoid removing the poplar tree identified near the Pine River crossing, if feasible. If the tree cannot be avoided determine appropriate alternative mitigation through consultation with the \\n</p>\\n<p>aboriginal community. \\nNote 4 Assess the coyote or fox den identified by First Nations for activity prior to construction. \\nNote 5 Assess nest prior to construction; if nest is active, apply provincial timing restrictions/setbacks as appropriate. \\nNote 6 Mitigation measures to avoid effects on mineral licks could include leaving gaps in windows and strung pipe at game trails, flagging, felling trees away from mineral licks, and maintaining \\n</p>\\n<p>a 100 m setback where possible from May to November. \\nNote 7 No topsoil stripping on frozen and non-frozen non-ALR lands, except in areas to be graded (drawing STDS-03-ML-05-444A). \\nNote 8 Full RoW (or blade width) topsoil salvage for all land uses on ALR lands, under non-frozen conditions (drawing STDS-03-ML-05-401 and STDS-03-ML-05-444B, or STDS-03-ML-05-\\n</p>\\n<p>404).  For ALR muskeg soil units, no topsoil stripping (drawing STDS-03-ML-05-444A). \\nNote 9 Blade width topsoil salvage on all land uses on ALR pasture under frozen conditions (drawing STDS-03-ML-05-404). \\nNote 10 Refer to EPP- Resource Specific Mitigation Table for soil handling measures at compressor and meter stations. \\nNote 11 Mitigation strategies will be determined upon completion of permitted AIA report from TERA. \\nNote 12 For wetlands in forested areas, use minimal disturbance techniques, including frost pack, snow, ice or matting.  For wetlands in cultivated and haylands, salvage topsoil from ditchline.  \\n</p>\\n<p>Refer to EPP – Resource Specific Mitigation Table for additional wetland mitigation. \\nNote 13 Clearing and brushing is restricted within the migratory bird nesting period (May 1 to July 31). Any clearing or brushing in this period requires a nest sweep following draft Environment \\n</p>\\n<p>Canada methods. \\nNote 14 Keep active game trails open during construction by leaving gaps in windrows (i.e., grubbing piles, topsoil, grade spoil, rollback) and strung pipe at obvious and previously identified \\n</p>\\n<p>wildlife trails, to allow for passage across the right-of-way. \\nNote 15 Where the route is not contiguous with existing linear features, reduce line-of-sight to ≤ 500 m using vegetation screening, rollback and earth berms. \\nNote 16 Environmentally sensitive features such as dens, nests, and mineral licks, will be flagged and/or fenced off prior to clearing and construction. \\n  \\n  \\n  \\n \\n </p>\\n<p />\\n</div>\\n</body></html>', 'status': 200}\n"
     ]
    }
   ],
   "source": [
    "for x in all_paths:\n",
    "    if '1059623' in x:\n",
    "        with open(x, 'rb') as f:\n",
    "            data = pickle.load(f)\n",
    "            print(data)\n",
    "#             soup = BeautifulSoup(data['content'], 'lxml')\n",
    "#             pages = soup.find_all('div', attrs={'class': 'page'})\n",
    "#             for b, p in enumerate(pages):\n",
    "#                 if b == 5:\n",
    "#                     pages_text = [x.text for x in p.find_all('p')]\n",
    "#                     print(pages_text)"
   ]
  },
  {
   "cell_type": "code",
   "execution_count": null,
   "metadata": {},
   "outputs": [],
   "source": []
  }
 ],
 "metadata": {
  "kernelspec": {
   "display_name": "Python 3",
   "language": "python",
   "name": "python3"
  },
  "language_info": {
   "codemirror_mode": {
    "name": "ipython",
    "version": 3
   },
   "file_extension": ".py",
   "mimetype": "text/x-python",
   "name": "python",
   "nbconvert_exporter": "python",
   "pygments_lexer": "ipython3",
   "version": "3.6.5"
  }
 },
 "nbformat": 4,
 "nbformat_minor": 2
}
